{
 "cells": [
  {
   "cell_type": "markdown",
   "metadata": {},
   "source": [
    "# Loan Chargeoff Prediction\n",
    "\n",
    "This notebook provides R scripts for modelling and scoring of Loan Chargeoff Prediction solution. \n",
    "\n",
    "### Prerequisites\n",
    "**The following steps should be executed outside of the notebook using SQL scripts that can be checked out from github. The scripts are present in SQLR folder.** The source code for a complete solution template is here: https://github.com/Microsoft/r-server-loan-chargeoff\n",
    "1. *Step 1* - This step does database setup to create required databases and tables for following steps.\n",
    "2. *Step 2* - This step imports the raw csv data into SQL Server and creates views/tables with feature and label columns.\n",
    "\n",
    "### Modelling/Scoring\n",
    "3. *Step 2a* (optional) - This step demonstrates feature selection and categorical transforms from MicrosoftML.\n",
    "4. *Step 3* - This step is for training various MicrosoftML models on the data and calculating stats for evaluation.\n",
    "5. *Step 4* - This step does batch prediction, first picking the best model and then predicting and storing the prediction results in a table.\n",
    "\n",
    "## NOTE\n",
    "* Replace appropriate username and password parameters in the connection strings"
   ]
  },
  {
   "cell_type": "code",
   "execution_count": 1,
   "metadata": {
    "collapsed": true
   },
   "outputs": [],
   "source": [
    "# Load required libraries\n",
    "library(RevoScaleR)\n",
    "library(MicrosoftML)"
   ]
  },
  {
   "cell_type": "code",
   "execution_count": 2,
   "metadata": {
    "collapsed": true
   },
   "outputs": [],
   "source": [
    "# Replace username and password in the connection string with appropriate values.\n",
    "sql_connection_string <- \"Driver=SQL Server;Server=.;Database=LoanChargeOff;UID=<sql username>;PWD=<sql password>\""
   ]
  },
  {
   "cell_type": "markdown",
   "metadata": {},
   "source": [
    "## Step 2a (Optional): Feature Selection\n",
    "This step demonstrates feature seleection and categorical transforms that can be used with MicrosoftML training algorithms"
   ]
  },
  {
   "cell_type": "code",
   "execution_count": 3,
   "metadata": {
    "collapsed": true
   },
   "outputs": [],
   "source": [
    "###########################################################################################################################################\n",
    "# Function for demonstrating MicrosoftML's selectFeatures and categorical transforms.\n",
    "# \n",
    "# Parameters:\n",
    "#                * connection_string - substitute appropriate username and password along with database name and server if needed\n",
    "#                * train_set - table name of training set (usually the prefix of 10k/100k/1m will only change based on data set size)\n",
    "#                * test_set - table name of testing set\n",
    "#\n",
    "# Pre-Requisites:\n",
    "#                Make sure Loan_ChargeOff.ps1 has been run for your appropriate size data set so the required tables have already been \n",
    "#                created and dataset imported (it's already been run for 10k loans data set)\n",
    "#                   \n",
    "###########################################################################################################################################\n",
    "select_features <- function(connection_string = sql_connection_string,\n",
    "                            train_set = \"loan_chargeoff_train_10k\",\n",
    "                            test_set = \"loan_chargeoff_test_10k\")\n",
    "{\n",
    "    cc <- RxInSqlServer(connectionString = connection_string)\n",
    "    rxSetComputeContext(cc)\n",
    "    testing_set <- RxSqlServerData(table=test_set, connectionString = connection_string)\n",
    "    training_set <- RxSqlServerData(table=train_set, connectionString = connection_string)\n",
    "    \n",
    "    features <- rxGetVarNames(testing_set)\n",
    "    variables_to_remove <- c(\"memberId\", \"loanId\", \"payment_date\", \"loan_open_date\", \"charge_off\")\n",
    "    feature_names <- features[!(features %in% variables_to_remove)]\n",
    "    model_formula <- as.formula(paste(paste(\"charge_off~\"), paste(feature_names, collapse = \"+\")))\n",
    "    selected_count <- 0\n",
    "    \n",
    "    ml_trans <- list(categorical(vars = c(\"purpose\", \"residentialState\", \"branch\", \"homeOwnership\", \"yearsEmployment\")),\n",
    "                    selectFeatures(model_formula, mode = mutualInformation(numFeaturesToKeep = 100)))\n",
    "    candidate_model <- rxLogisticRegression(model_formula, data = training_set, mlTransforms = ml_trans)\n",
    "    predicted_score <- rxPredict(candidate_model, testing_set, extraVarsToWrite = c(\"charge_off\"))\n",
    "    # set compute context to local otherwise need to store prediction in RxSqlServerData data source for RxInSqlServer compute context\n",
    "    rxSetComputeContext(\"local\")\n",
    "    predicted_roc <- rxRoc(\"charge_off\", grep(\"Probability\", names(predicted_score), value = T), predicted_score)\n",
    "    auc <- rxAuc(predicted_roc)\n",
    "    \n",
    "    features_to_remove <- c(\"(Bias)\")\n",
    "    selected_features <- rxGetVarInfo(summary(candidate_model)$summary)\n",
    "    selected_feature_names <- names(selected_features)\n",
    "    selected_feature_names[!(selected_feature_names %in% features_to_remove)]\n",
    "}"
   ]
  },
  {
   "cell_type": "code",
   "execution_count": 4,
   "metadata": {
    "collapsed": false
   },
   "outputs": [
    {
     "name": "stdout",
     "output_type": "stream",
     "text": [
      "Elapsed time: 00:00:00.6347310\n"
     ]
    },
    {
     "data": {
      "text/html": [
       "<ol class=list-inline>\n",
       "\t<li>'installment'</li>\n",
       "\t<li>'loanAmount'</li>\n",
       "\t<li>'past_due_5'</li>\n",
       "\t<li>'term'</li>\n",
       "\t<li>'past_due_4'</li>\n",
       "\t<li>'past_due_3'</li>\n",
       "\t<li>'past_due_2'</li>\n",
       "\t<li>'past_due_1'</li>\n",
       "\t<li>'past_due'</li>\n",
       "\t<li>'branch.\"Bridgeport\"'</li>\n",
       "\t<li>'numTotalCreditLines'</li>\n",
       "\t<li>'branch.\"San Antonio\"'</li>\n",
       "\t<li>'annualIncome'</li>\n",
       "\t<li>'residentialState.\"NV\"'</li>\n",
       "\t<li>'branch.\"Shreveport\"'</li>\n",
       "\t<li>'residentialState.\"WV\"'</li>\n",
       "\t<li>'branch.\"Spokane\"'</li>\n",
       "\t<li>'branch.\"Gulfport\"'</li>\n",
       "\t<li>'residentialState.\"VT\"'</li>\n",
       "</ol>\n"
      ],
      "text/latex": [
       "\\begin{enumerate*}\n",
       "\\item 'installment'\n",
       "\\item 'loanAmount'\n",
       "\\item 'past\\_due\\_5'\n",
       "\\item 'term'\n",
       "\\item 'past\\_due\\_4'\n",
       "\\item 'past\\_due\\_3'\n",
       "\\item 'past\\_due\\_2'\n",
       "\\item 'past\\_due\\_1'\n",
       "\\item 'past\\_due'\n",
       "\\item 'branch.\"Bridgeport\"'\n",
       "\\item 'numTotalCreditLines'\n",
       "\\item 'branch.\"San Antonio\"'\n",
       "\\item 'annualIncome'\n",
       "\\item 'residentialState.\"NV\"'\n",
       "\\item 'branch.\"Shreveport\"'\n",
       "\\item 'residentialState.\"WV\"'\n",
       "\\item 'branch.\"Spokane\"'\n",
       "\\item 'branch.\"Gulfport\"'\n",
       "\\item 'residentialState.\"VT\"'\n",
       "\\end{enumerate*}\n"
      ],
      "text/markdown": [
       "1. 'installment'\n",
       "2. 'loanAmount'\n",
       "3. 'past_due_5'\n",
       "4. 'term'\n",
       "5. 'past_due_4'\n",
       "6. 'past_due_3'\n",
       "7. 'past_due_2'\n",
       "8. 'past_due_1'\n",
       "9. 'past_due'\n",
       "10. 'branch.\"Bridgeport\"'\n",
       "11. 'numTotalCreditLines'\n",
       "12. 'branch.\"San Antonio\"'\n",
       "13. 'annualIncome'\n",
       "14. 'residentialState.\"NV\"'\n",
       "15. 'branch.\"Shreveport\"'\n",
       "16. 'residentialState.\"WV\"'\n",
       "17. 'branch.\"Spokane\"'\n",
       "18. 'branch.\"Gulfport\"'\n",
       "19. 'residentialState.\"VT\"'\n",
       "\n",
       "\n"
      ],
      "text/plain": [
       " [1] \"installment\"             \"loanAmount\"             \n",
       " [3] \"past_due_5\"              \"term\"                   \n",
       " [5] \"past_due_4\"              \"past_due_3\"             \n",
       " [7] \"past_due_2\"              \"past_due_1\"             \n",
       " [9] \"past_due\"                \"branch.\\\"Bridgeport\\\"\"  \n",
       "[11] \"numTotalCreditLines\"     \"branch.\\\"San Antonio\\\"\" \n",
       "[13] \"annualIncome\"            \"residentialState.\\\"NV\\\"\"\n",
       "[15] \"branch.\\\"Shreveport\\\"\"   \"residentialState.\\\"WV\\\"\"\n",
       "[17] \"branch.\\\"Spokane\\\"\"      \"branch.\\\"Gulfport\\\"\"    \n",
       "[19] \"residentialState.\\\"VT\\\"\""
      ]
     },
     "metadata": {},
     "output_type": "display_data"
    }
   ],
   "source": [
    "features <- select_features()\n",
    "features"
   ]
  },
  {
   "cell_type": "markdown",
   "metadata": {},
   "source": [
    "## Step 3: Model Training and Evaluation\n",
    "\n",
    "This step does model training and computes evaluation stats which are stored in a models table"
   ]
  },
  {
   "cell_type": "code",
   "execution_count": 5,
   "metadata": {
    "collapsed": true
   },
   "outputs": [],
   "source": [
    "# Function to compute model evaluation stats\n",
    "model_eval_stats <- function(scored_data, label=\"charge_off\", predicted_prob=\"Probability\", predicted_label=\"PredictedLabel\")\n",
    "{\n",
    "  roc <- rxRoc(label, grep(predicted_prob, names(scored_data), value=T), scored_data)\n",
    "  auc <- rxAuc(roc)\n",
    "  crosstab_formula <- as.formula(paste(\"~as.factor(\", label, \"):as.factor(\", predicted_label, \")\"))\n",
    "  cross_tab <- rxCrossTabs(crosstab_formula, scored_data)\n",
    "  conf_matrix <- cross_tab$counts[[1]]\n",
    "  tn <- conf_matrix[1,1]\n",
    "  fp <- conf_matrix[1,2]\n",
    "  fn <- conf_matrix[2,1]\n",
    "  tp <- conf_matrix[2,2]\n",
    "  accuracy <- (tp + tn) / (tp + fn + fp + tn)\n",
    "  precision <- tp/(tp+fp)\n",
    "  recall <- tp / (tp+fn)\n",
    "  f1score <- 2 * (precision * recall) / (precision + recall)\n",
    "  return(list(auc=auc, accuracy=accuracy, precision = precision, recall=recall, f1score=f1score))\n",
    "}"
   ]
  },
  {
   "cell_type": "code",
   "execution_count": 6,
   "metadata": {
    "collapsed": true
   },
   "outputs": [],
   "source": [
    "###########################################################################################################################################\n",
    "# Function for training of models using MicrosoftML algorithms. Feature selection is done during training using selectFeatures mlTransforms\n",
    "# as well as categorical transform.\n",
    "# \n",
    "# Parameters:\n",
    "#                * model_name - name of the model to train_set\n",
    "#                * train_set - table name of training set (usually the prefix of 10k/100k/1m will only change based on data set size)\n",
    "#                * test_set - table name of testing set\n",
    "#                * score_set - table name to be used for scoring the test_set table for evaluation\n",
    "#                * connection_string - substitute appropriate username and password along with database name and server if needed\n",
    "#\n",
    "# Pre-Requisites:\n",
    "#                Make sure Loan_ChargeOff.ps1 has been run for your appropriate size data set so the required tables have already been \n",
    "#                created and dataset imported (it's already been run for 10k loans data set)\n",
    "#                   \n",
    "###########################################################################################################################################\n",
    "train_model <- function(model_name = \"logistic_regression\",\n",
    "                        train_set = \"loan_chargeoff_train_10k\",\n",
    "                        test_set = \"loan_chargeoff_test_10k\",\n",
    "                        score_set = \"loan_chargeoff_eval_score_10k\",\n",
    "                        connection_string = sql_connection_string\n",
    "                        )\n",
    "{\n",
    "\n",
    "    cc <- RxInSqlServer(connectionString = connection_string)\n",
    "    rxSetComputeContext(cc)\n",
    "    training_set <- RxSqlServerData(table=train_set, connectionString = connection_string)\n",
    "    testing_set <- RxSqlServerData(table=test_set, connectionString = connection_string)\n",
    "    scoring_set <- RxSqlServerData(table=score_set, connectionString = connection_string, overwrite=TRUE)\n",
    "    ##########################################################################################################################################\n",
    "    ## Training and evaluating model based on model selection\n",
    "    ##########################################################################################################################################\n",
    "    features <- rxGetVarNames(training_set)\n",
    "    vars_to_remove <- c(\"memberId\", \"loanId\", \"payment_date\", \"loan_open_date\", \"charge_off\")\n",
    "    feature_names <- features[!(features %in% vars_to_remove)]\n",
    "    model_formula <- as.formula(paste(paste(\"charge_off~\"), paste(feature_names, collapse = \"+\")))\n",
    "    ml_trans <- list(categorical(vars = c(\"purpose\", \"residentialState\", \"branch\", \"homeOwnership\", \"yearsEmployment\")),\n",
    "                    selectFeatures(model_formula, mode = mutualInformation(numFeaturesToKeep = 100)))\n",
    "    \n",
    "    print(paste(\"Starting to train with\", model_name))\n",
    "    if (model_name == \"logistic_reg\") {\n",
    "        model <- rxLogisticRegression(formula = model_formula,\n",
    "                        data = training_set,\n",
    "                        mlTransforms = ml_trans)\n",
    "    } else if (model_name == \"fast_trees\") {\n",
    "        model <- rxFastTrees(formula = model_formula,\n",
    "                        data = training_set,\n",
    "                        mlTransforms = ml_trans)\n",
    "    } else if (model_name == \"fast_forest\") {\n",
    "        model <- rxFastForest(formula = model_formula,\n",
    "                        data = training_set,\n",
    "                        mlTransforms = ml_trans)\n",
    "    } else if (model_name == \"fast_linear\") {\n",
    "        model <- rxFastLinear(formula = model_formula,\n",
    "                        data = training_set,\n",
    "                        mlTransforms = ml_trans)\n",
    "    } else if (model_name == \"neural_net\") {\n",
    "        model <- rxNeuralNet(formula = model_formula,\n",
    "                        data = training_set,\n",
    "                        numIterations = 42,\n",
    "                        optimizer = adaDeltaSgd(),\n",
    "                        mlTransforms = ml_trans)\n",
    "    }\n",
    "    print(\"Done training.\")\n",
    "    \n",
    "    # selected features\n",
    "    features_to_remove <- c(\"(Bias)\")\n",
    "    selected_features <- rxGetVarInfo(summary(model)$summary)\n",
    "    selected_feature_names <- names(selected_features)\n",
    "    selected_feature_filtered <- selected_feature_names[!(selected_feature_names %in% features_to_remove)]\n",
    "    \n",
    "    # evaluate model\n",
    "    rxPredict(model, testing_set, outData = scoring_set, extraVarsToWrite = c(\"loanId\", \"payment_date\", \"charge_off\"), overwrite=TRUE)\n",
    "    print(\"Done writing predictions for evaluation of model.\")\n",
    "    list(model_name = model_name, model = model, stats = model_eval_stats(scoring_set))\n",
    "}"
   ]
  },
  {
   "cell_type": "code",
   "execution_count": 7,
   "metadata": {
    "collapsed": false
   },
   "outputs": [
    {
     "name": "stdout",
     "output_type": "stream",
     "text": [
      "[1] \"Starting to train with logistic_reg\"\n",
      "Elapsed time: 00:00:00.0377952\n",
      "[1] \"Done training.\"\n",
      "[1] \"Done writing predictions for evaluation of model.\"\n",
      "Rows Read: 101, Total Rows Processed: 101, Total Chunk Time: 0.007 seconds \n",
      "[1] \"Starting to train with fast_trees\"\n",
      "[1] \"Done training.\"\n",
      "Elapsed time: 00:00:00.0766733\n",
      "[1] \"Done writing predictions for evaluation of model.\"\n",
      "Rows Read: 101, Total Rows Processed: 101, Total Chunk Time: 0.007 seconds \n",
      "[1] \"Starting to train with fast_forest\"\n",
      "[1] \"Done training.\"\n",
      "Elapsed time: 00:00:00.0455352\n",
      "[1] \"Done writing predictions for evaluation of model.\"\n",
      "Rows Read: 101, Total Rows Processed: 101, Total Chunk Time: 0.007 seconds \n",
      "[1] \"Starting to train with fast_linear\"\n",
      "Elapsed time: 00:00:00.0402667\n",
      "[1] \"Done training.\"\n",
      "[1] \"Done writing predictions for evaluation of model.\"\n",
      "Rows Read: 101, Total Rows Processed: 101, Total Chunk Time: 0.007 seconds \n",
      "[1] \"Starting to train with neural_net\"\n",
      "[1] \"Done training.\"\n",
      "Elapsed time: 00:00:00.0938715\n",
      "[1] \"Done writing predictions for evaluation of model.\"\n",
      "Rows Read: 101, Total Rows Processed: 101, Total Chunk Time: 0.010 seconds \n"
     ]
    },
    {
     "data": {
      "text/plain": [
       "$model_name\n",
       "[1] \"fast_linear\"\n",
       "\n",
       "$model\n",
       "Call:\n",
       "rxFastLinear(formula = model_formula, data = training_set, mlTransforms = ml_trans)\n",
       "\n",
       "SDCA (BinaryClassifierTrainer) for: charge_off~payment+past_due+remain_balance+loanAmount+interestRate+grade+term+installment+isJointApplication+purpose+residentialState+branch+annualIncome+yearsEmployment+homeOwnership+incomeVerified+creditScore+dtiRatio+revolvingBalance+revolvingUtilizationRate+numDelinquency2Years+numDerogatoryRec+numInquiries6Mon+lengthCreditHistory+numOpenCreditLines+numTotalCreditLines+numChargeoff1year+payment_1+payment_2+payment_3+payment_4+payment_5+past_due_1+past_due_2+past_due_3+past_due_4+past_due_5+remain_balance_1+remain_balance_2+remain_balance_3+remain_balance_4+remain_balance_5\n",
       "Data: training_set (RxSqlServerData Data Source) \n",
       "\n",
       "$stats\n",
       "$stats$auc\n",
       "[1] 0.9975022\n",
       "\n",
       "$stats$accuracy\n",
       "[1] 0.993602\n",
       "\n",
       "$stats$precision\n",
       "[1] 0.8452381\n",
       "\n",
       "$stats$recall\n",
       "[1] 0.8208092\n",
       "\n",
       "$stats$f1score\n",
       "[1] 0.8328446\n",
       "\n"
      ]
     },
     "metadata": {},
     "output_type": "display_data"
    }
   ],
   "source": [
    "# train on MicrosoftML algorithms\n",
    "ml_algs <- c(\"logistic_reg\", \"fast_trees\", \"fast_forest\", \"fast_linear\", \"neural_net\")\n",
    "model_stats <- lapply(ml_algs, train_model)\n",
    "\n",
    "# find the best model based on f1score\n",
    "best_model <- model_stats[[which.max(sapply(model_stats, function(stat) stat$stats$f1score))]]\n",
    "# save to file for use during scoring\n",
    "save(best_model, file=\"loan_chargeoff_best_model_10k.rdata\")\n",
    "best_model"
   ]
  },
  {
   "cell_type": "markdown",
   "metadata": {},
   "source": [
    "## Step 4: Batch prediction of Loan chargeoff\n",
    "This step does batch prediction of a data set based on the best model arrived at in the previous step"
   ]
  },
  {
   "cell_type": "code",
   "execution_count": 8,
   "metadata": {
    "collapsed": true
   },
   "outputs": [],
   "source": [
    "###########################################################################################################################################\n",
    "# Function for demonstrating MicrosoftML's selectFeatures and categorical transforms.\n",
    "# \n",
    "# Parameters:\n",
    "#                * connection_string - substitute appropriate username and password along with database name and server if needed\n",
    "#                * best_models_file - file where best_model object from training/testing step is stored\n",
    "#                * score_set - table name of for scoring data (usually the prefix of 10k/100k/1m will only change based on data set size)\n",
    "#                * score_prediction - table name where to store prediction results\n",
    "#\n",
    "# Pre-Requisites:\n",
    "#                1. Make sure Loan_ChargeOff.ps1 has been run for your appropriate size data set so the required tables have already been \n",
    "#                   created and dataset imported (it's already been run for 10k loans data set)\n",
    "#                2. Modelling must have been completed\n",
    "#                   \n",
    "###########################################################################################################################################\n",
    "batch_score <- function (connection_string = sql_connection_string,\n",
    "                         best_models_file = \"loan_chargeoff_best_model_10k.rdata\",\n",
    "                         score_set = \"loan_chargeoff_score_10k\",\n",
    "                         score_prediction = \"loan_chargeoff_prediction_10k\")\n",
    "{\n",
    "    load(best_models_file)\n",
    "    if (!exists(\"best_model\"))\n",
    "    {\n",
    "      stop(\"best_models_file does not contain best_model object, make sure you saved it properly during training step.\")\n",
    "    }\n",
    "    cc <- RxInSqlServer(connectionString = connection_string)\n",
    "    rxSetComputeContext(cc)\n",
    "    scoring_data <- RxSqlServerData(table = score_set, connectionString = connection_string)\n",
    "    prediction_data <- RxSqlServerData(table = score_prediction, connectionString = connection_string)\n",
    "    \n",
    "    # Warning: this will drop and recreate the prediction table\n",
    "    rxPredict(best_model$model, scoring_data, outData = prediction_data, extraVarsToWrite = c(\"loanId\", \"payment_date\"), overwrite=TRUE)\n",
    "    print(\"Completed batch scoring.\")\n",
    "}"
   ]
  },
  {
   "cell_type": "code",
   "execution_count": 9,
   "metadata": {
    "collapsed": false
   },
   "outputs": [
    {
     "name": "stdout",
     "output_type": "stream",
     "text": [
      "[1] \"Completed batch scoring.\"\n"
     ]
    }
   ],
   "source": [
    "# call batch scoring function\n",
    "batch_score()"
   ]
  }
 ],
 "metadata": {
  "anaconda-cloud": {},
  "kernelspec": {
   "display_name": "R",
   "language": "R",
   "name": "ir"
  },
  "language_info": {
   "codemirror_mode": "r",
   "file_extension": ".r",
   "mimetype": "text/x-r-source",
   "name": "R",
   "pygments_lexer": "r",
   "version": "3.3.3"
  }
 },
 "nbformat": 4,
 "nbformat_minor": 2
}
